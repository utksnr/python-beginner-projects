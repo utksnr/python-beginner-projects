{
 "cells": [
  {
   "cell_type": "code",
   "execution_count": 1,
   "id": "d8b76bc0-d79e-4f14-9e9a-25bf6f15ff37",
   "metadata": {},
   "outputs": [],
   "source": [
    "import cv2\n",
    "import numpy as np\n",
    "import matplotlib.pyplot as plt\n",
    "from matplotlib import cm"
   ]
  },
  {
   "cell_type": "code",
   "execution_count": 2,
   "id": "cb0bd475-3a26-4773-a5dc-815abe586cbb",
   "metadata": {},
   "outputs": [],
   "source": [
    "image = cv2.imread(\"ryangosling/images.jpg\")"
   ]
  },
  {
   "cell_type": "code",
   "execution_count": 3,
   "id": "7dbba8b1-cbf5-4643-be83-58cfaf6681c6",
   "metadata": {},
   "outputs": [],
   "source": [
    "image_copy = np.copy(image)"
   ]
  },
  {
   "cell_type": "code",
   "execution_count": 4,
   "id": "7eb8bdcc-1faa-4127-856d-be93d5381b0a",
   "metadata": {},
   "outputs": [],
   "source": [
    "marker_image = np.zeros(image.shape[:2],dtype=np.int32)"
   ]
  },
  {
   "cell_type": "code",
   "execution_count": 5,
   "id": "61756369-3d03-49fe-aaff-430f68282ebd",
   "metadata": {},
   "outputs": [],
   "source": [
    "segments = np.zeros(image.shape,dtype=np.uint8)"
   ]
  },
  {
   "cell_type": "code",
   "execution_count": 6,
   "id": "5c89045b-0edf-4256-bb9a-c871aa0cd172",
   "metadata": {},
   "outputs": [],
   "source": [
    "def create_rgb(i):\n",
    "    return tuple(np.array(cm.tab10(i)[:3])*255)"
   ]
  },
  {
   "cell_type": "code",
   "execution_count": 7,
   "id": "684cd8e1-a30c-42f0-be9a-d24b51ce55ac",
   "metadata": {},
   "outputs": [],
   "source": [
    "colors = []\n",
    "for i in range(10):\n",
    "    colors.append(create_rgb(i))"
   ]
  },
  {
   "cell_type": "code",
   "execution_count": 8,
   "id": "11487583-28a9-46db-b1a1-a78b50c69be8",
   "metadata": {},
   "outputs": [],
   "source": [
    "number_markers = 10\n",
    "current_marker = 1\n",
    "marks_updated = False"
   ]
  },
  {
   "cell_type": "code",
   "execution_count": 9,
   "id": "653a798d-e58e-4ae4-b602-e5c45bf5e774",
   "metadata": {},
   "outputs": [],
   "source": [
    "def mouse_callback(event,x,y,flags,param):\n",
    "    global marks_updated\n",
    "    \n",
    "    if event == cv2.EVENT_LBUTTONDOWN:\n",
    "        cv2.circle(marker_image,(x,y),10,(current_marker),-1)\n",
    "        cv2.circle(image_copy,(x,y),10,colors[current_marker],-1)\n",
    "        \n",
    "        marks_updated = True"
   ]
  },
  {
   "cell_type": "code",
   "execution_count": 10,
   "id": "4d66b228-0ea6-49c8-8905-f2af0651bc1a",
   "metadata": {},
   "outputs": [],
   "source": [
    "cv2.namedWindow(\"Image\")\n",
    "cv2.setMouseCallback(\"Image\",mouse_callback)\n",
    "\n",
    "while True:\n",
    "    \n",
    "    cv2.imshow(\"Watershed Segments\",segments)\n",
    "    cv2.imshow(\"Image\",image_copy)\n",
    "    \n",
    "    k = cv2.waitKey(1)\n",
    "    \n",
    "    if k == 27:\n",
    "        break\n",
    "        \n",
    "    elif k == ord(\"c\"):\n",
    "        image_copy = image.copy()\n",
    "        marker_image = np.zeros(image.shape[:2],dtype=np.int32)\n",
    "        segment = np.zeros(image.shape,dtype=np.uint8)\n",
    "        \n",
    "    elif k > 0 and chr(k).isdigit():\n",
    "        current_marker = int(chr(k))\n",
    "    \n",
    "    if marks_updated:\n",
    "        \n",
    "        marker_image_copy = marker_image.copy()\n",
    "        cv2.watershed(image,marker_image_copy)\n",
    "        \n",
    "        segments = np.zeros(image.shape,dtype=np.uint8)\n",
    "        \n",
    "        for color_ind in range(number_markers):\n",
    "            #coloring segments\n",
    "            segments[marker_image_copy==(color_ind)] = colors[color_ind]\n",
    "            \n",
    "\n",
    "cv2.destroyAllWindows()"
   ]
  }
 ],
 "metadata": {
  "kernelspec": {
   "display_name": "Python 3 (ipykernel)",
   "language": "python",
   "name": "python3"
  },
  "language_info": {
   "codemirror_mode": {
    "name": "ipython",
    "version": 3
   },
   "file_extension": ".py",
   "mimetype": "text/x-python",
   "name": "python",
   "nbconvert_exporter": "python",
   "pygments_lexer": "ipython3",
   "version": "3.9.13"
  }
 },
 "nbformat": 4,
 "nbformat_minor": 5
}
